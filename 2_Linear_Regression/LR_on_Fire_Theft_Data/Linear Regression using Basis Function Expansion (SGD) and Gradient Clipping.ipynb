{
 "cells": [
  {
   "cell_type": "code",
   "execution_count": 74,
   "metadata": {
    "collapsed": true
   },
   "outputs": [],
   "source": [
    "import numpy as np\n",
    "import matplotlib.pyplot as plt\n",
    "import tensorflow as tf\n",
    "import xlrd\n",
    "\n",
    "#import utils\n",
    "\n",
    "%matplotlib inline\n",
    "\n",
    "DATA_FILE = 'data/fire_theft.xls'"
   ]
  },
  {
   "cell_type": "markdown",
   "metadata": {},
   "source": [
    "## Step 1: read in data from the .xls file\n"
   ]
  },
  {
   "cell_type": "code",
   "execution_count": 75,
   "metadata": {},
   "outputs": [
    {
     "data": {
      "text/plain": [
       "42"
      ]
     },
     "execution_count": 75,
     "metadata": {},
     "output_type": "execute_result"
    }
   ],
   "source": [
    "book = xlrd.open_workbook(DATA_FILE, encoding_override=\"utf-8\")\n",
    "sheet = book.sheet_by_index(0)\n",
    "data = np.asarray([sheet.row_values(i) for i in range(1, sheet.nrows)])\n",
    "n_samples = sheet.nrows - 1\n",
    "\n",
    "n_samples"
   ]
  },
  {
   "cell_type": "markdown",
   "metadata": {},
   "source": [
    "## Step 2: create placeholders for input X (number of fire) and label Y (number of theft)\n"
   ]
  },
  {
   "cell_type": "code",
   "execution_count": 76,
   "metadata": {
    "collapsed": true
   },
   "outputs": [],
   "source": [
    "X = tf.placeholder(tf.float32, name='X')\n",
    "Y = tf.placeholder(tf.float32, name='Y')"
   ]
  },
  {
   "cell_type": "markdown",
   "metadata": {},
   "source": [
    "## Step 3: create weights (w, u) and bias (b), initialized to 0\n"
   ]
  },
  {
   "cell_type": "code",
   "execution_count": 77,
   "metadata": {
    "collapsed": true
   },
   "outputs": [],
   "source": [
    "w = tf.Variable(0.0, name='weights2')\n",
    "u = tf.Variable(0.0, name='weights1')\n",
    "b = tf.Variable(0.0, name='bias')"
   ]
  },
  {
   "cell_type": "markdown",
   "metadata": {},
   "source": [
    "## Step 4: build model to predict Y\n"
   ]
  },
  {
   "cell_type": "code",
   "execution_count": 78,
   "metadata": {
    "collapsed": true
   },
   "outputs": [],
   "source": [
    "Y_predicted = X * X * w + X * u + b"
   ]
  },
  {
   "cell_type": "markdown",
   "metadata": {},
   "source": [
    "## Step 5: use the square error as the loss function\n"
   ]
  },
  {
   "cell_type": "code",
   "execution_count": 79,
   "metadata": {
    "collapsed": true
   },
   "outputs": [],
   "source": [
    "loss = tf.square(Y - Y_predicted, name='loss')"
   ]
  },
  {
   "cell_type": "markdown",
   "metadata": {},
   "source": [
    "## Step 6: using gradient descent with learning rate of 0.001 to minimize loss\n",
    "\n",
    "<span style=\"color:red\">\\** Note this step is different from previous ones </span>\n"
   ]
  },
  {
   "cell_type": "code",
   "execution_count": 80,
   "metadata": {},
   "outputs": [],
   "source": [
    "optimizer = tf.train.GradientDescentOptimizer(learning_rate=0.001)\n",
    "\n",
    "gradients = tf.gradients(loss, [w, u, b])\n",
    "clipped_gradients, norm = tf.clip_by_global_norm(gradients, .1)\n",
    "train_step = optimizer.apply_gradients(zip(clipped_gradients, [u,w,b]))"
   ]
  },
  {
   "cell_type": "markdown",
   "metadata": {},
   "source": [
    "## Step 7, 8, 9 -> inside tf.session()\n",
    "\n",
    "#### Step 7: initialize the necessary variables, in this case, w and b\n",
    "#### Step 8: train the model\n",
    "#### Step 9: output the values of w and b\n"
   ]
  },
  {
   "cell_type": "code",
   "execution_count": 81,
   "metadata": {},
   "outputs": [
    {
     "name": "stdout",
     "output_type": "stream",
     "text": [
      "Epoch 0: 1641.2966389883131\n",
      "Epoch 1: 1621.5279516265505\n",
      "Epoch 2: 1601.9609875451952\n",
      "Epoch 3: 1582.5955854029883\n",
      "Epoch 4: 1563.4318267504375\n",
      "Epoch 5: 1544.4696269943602\n",
      "Epoch 6: 1525.70903694062\n",
      "Epoch 7: 1507.150088977246\n",
      "Epoch 8: 1488.7928312122822\n",
      "Epoch 9: 1470.6371186982308\n",
      "Epoch 10: 1452.682947410315\n",
      "Epoch 11: 1435.001869816599\n",
      "Epoch 12: 1417.8594424937453\n",
      "Epoch 13: 1400.909567655552\n",
      "Epoch 14: 1384.1522915193013\n",
      "Epoch 15: 1367.5877739361354\n",
      "Epoch 16: 1351.215901806241\n",
      "Epoch 17: 1335.0367374193102\n",
      "Epoch 18: 1319.0502943197887\n",
      "Epoch 19: 1303.256528422946\n",
      "Epoch 20: 1287.6553996404011\n",
      "Epoch 21: 1272.2470083236694\n",
      "Epoch 22: 1257.0313544046312\n",
      "Epoch 23: 1242.0083272570655\n",
      "Epoch 24: 1227.1780034019835\n",
      "Epoch 25: 1212.5404029119582\n",
      "Epoch 26: 1198.0954986753918\n",
      "Epoch 27: 1183.8433075859434\n",
      "Epoch 28: 1169.7838257380895\n",
      "Epoch 29: 1155.9170199802943\n",
      "Epoch 30: 1142.2428726014637\n",
      "Epoch 31: 1128.7615213848296\n",
      "Epoch 32: 1115.4727675120037\n",
      "Epoch 33: 1102.376701082502\n",
      "Epoch 34: 1089.4733457111176\n",
      "Epoch 35: 1076.7627224695116\n",
      "Epoch 36: 1064.244784673055\n",
      "Epoch 37: 1051.919461159479\n",
      "Epoch 38: 1039.7868937537783\n",
      "Epoch 39: 1027.8470514388312\n",
      "Epoch 40: 1016.0998340561276\n",
      "Epoch 41: 1004.5453091803051\n",
      "Epoch 42: 993.1835573173705\n",
      "Epoch 43: 982.014398529416\n",
      "Epoch 44: 971.037968365919\n",
      "Epoch 45: 960.2542204289209\n",
      "Epoch 46: 949.8236918977283\n",
      "Epoch 47: 939.8535887080999\n",
      "Epoch 48: 930.0620348964419\n",
      "Epoch 49: 920.4490436429069\n",
      "Epoch 50: 911.0146116188595\n",
      "Epoch 51: 901.7587038335346\n",
      "Epoch 52: 892.6813383556548\n",
      "Epoch 53: 883.7825528553554\n",
      "Epoch 54: 875.0622944831848\n",
      "Epoch 55: 866.520488060656\n",
      "Epoch 56: 858.1572446567671\n",
      "Epoch 57: 849.9725087407444\n",
      "Epoch 58: 842.0990659253938\n",
      "Epoch 59: 834.4489234402066\n",
      "Epoch 60: 826.9700148730051\n",
      "Epoch 61: 819.6625680242266\n",
      "Epoch 62: 812.5264537561508\n",
      "Epoch 63: 805.561689717429\n",
      "Epoch 64: 798.7682415644327\n",
      "Epoch 65: 792.1462398937771\n",
      "Epoch 66: 785.6955098311106\n",
      "Epoch 67: 779.4161350159418\n",
      "Epoch 68: 773.308126619884\n",
      "Epoch 69: 767.3715426127116\n",
      "Epoch 70: 761.6062301170258\n",
      "Epoch 71: 756.0122931727341\n",
      "Epoch 72: 750.5897362821158\n",
      "Epoch 73: 745.3385259512191\n",
      "Epoch 74: 740.286825930611\n",
      "Epoch 75: 735.5117793487651\n",
      "Epoch 76: 730.9002314805984\n",
      "Epoch 77: 726.4520632085346\n",
      "Epoch 78: 722.1673622982843\n",
      "Epoch 79: 718.0461459131468\n",
      "Epoch 80: 714.0883803935278\n",
      "Epoch 81: 710.2940435111523\n",
      "Epoch 82: 706.663139004083\n",
      "Epoch 83: 703.19574839675\n",
      "Epoch 84: 699.8917427462127\n",
      "Epoch 85: 696.7694199133575\n",
      "Epoch 86: 693.8907838878887\n",
      "Epoch 87: 691.1667981921207\n",
      "Epoch 88: 688.5974178566996\n",
      "Epoch 89: 686.2382260617755\n",
      "Epoch 90: 684.0446734375188\n",
      "Epoch 91: 681.9995855192786\n",
      "Epoch 92: 680.1217943941731\n",
      "Epoch 93: 678.4397049304985\n",
      "Epoch 94: 676.8983826381819\n",
      "Epoch 95: 675.4979147116343\n",
      "Epoch 96: 674.2381929755211\n",
      "Epoch 97: 673.1192525341397\n",
      "Epoch 98: 672.1411116236732\n",
      "Epoch 99: 671.303709484282\n"
     ]
    }
   ],
   "source": [
    "with tf.Session() as sess:\n",
    "    \n",
    "    # Step 7: initialize the necessary variables, in this case, w and b\n",
    "    \n",
    "    sess.run(tf.global_variables_initializer()) \n",
    "\n",
    "    # Step 8: train the model\n",
    "    \n",
    "    for i in range(100): # train the model 100 epochs\n",
    "        total_loss = 0\n",
    "        for x, y in data:\n",
    "            # Session runs train_op and fetch values of loss\n",
    "            _, l = sess.run([train_step, loss], feed_dict={X: x, Y:y}) \n",
    "            total_loss += l\n",
    "        print('Epoch {0}: {1}'.format(i, total_loss/n_samples))\n",
    "\n",
    "    \n",
    "    # Step 9: output the values of w and b\n",
    "    \n",
    "    w, u, b = sess.run([w, u, b]) "
   ]
  },
  {
   "cell_type": "code",
   "execution_count": 82,
   "metadata": {},
   "outputs": [
    {
     "name": "stdout",
     "output_type": "stream",
     "text": [
      "0.0135498\n",
      "0.352812\n",
      "0.0550596\n"
     ]
    }
   ],
   "source": [
    "print(b)\n",
    "print(u)\n",
    "print(w)\n"
   ]
  },
  {
   "cell_type": "markdown",
   "metadata": {},
   "source": [
    "# Plot the results\n"
   ]
  },
  {
   "cell_type": "code",
   "execution_count": 83,
   "metadata": {},
   "outputs": [
    {
     "data": {
      "image/png": "[encoded data removed]",
      "text/plain": [
       "<matplotlib.figure.Figure at 0x7fa370837518>"
      ]
     },
     "metadata": {},
     "output_type": "display_data"
    }
   ],
   "source": [
    "X, Y = data.T[0], data.T[1]\n",
    "plt.plot(X, Y, 'bo', label='Real data')\n",
    "plt.scatter(X, X * X * w + X * u + b, color = 'red', label='Predicted data')\n",
    "plt.legend()\n",
    "plt.show()"
   ]
  },
  {
   "cell_type": "markdown",
   "metadata": {
    "collapsed": true
   },
   "source": [
    "## Compare with the SGD, BGD, and Normalized version\n",
    "\n",
    "SGD with **100 epoch** and **learning rate = .00001**\n",
    "\n",
    "\n",
    "BGD with **100 epoch** and **learning rate = .00001**\n",
    "\n",
    "Basis Function Expansion with SGD & *huber loss* - **100 epoch** and **learning rate = .00001**\n",
    "\n",
    "Basis Function Expansion with SGD & *Gradient Clipping* - **100 epoch, clip_norm = 0.1** and **learning rate = .001**\n",
    "\n",
    "\n",
    "|                   | **bias**(b)   | **Weight**(w) | **Cost**         |\n",
    "| ----------------  |:-------------:| -------------:| ----------------:|\n",
    "| **SGD**           | 0.611998      | 2.13033       | 463.52           |\n",
    "| **BGD**           | 0.612963      | 2.13865       | 457.91           |\n",
    "|**Normal(OLS)Eqn** | 16.99516296   | 1.31345558    | 360.82014974     |\n",
    "|**BFE(Huber Loss)**| 0.0291879     | 0.172, 0.053  | 23.331           |\n",
    "|**BFE(Grad Clip)** | 0.0135498     | 0.352, 0.055  | 671.303709       |\n"
   ]
  },
  {
   "cell_type": "code",
   "execution_count": null,
   "metadata": {
    "collapsed": true
   },
   "outputs": [],
   "source": []
  }
 ],
 "metadata": {
  "kernelspec": {
   "display_name": "Python 3",
   "language": "python",
   "name": "python3"
  },
  "language_info": {
   "codemirror_mode": {
    "name": "ipython",
    "version": 3
   },
   "file_extension": ".py",
   "mimetype": "text/x-python",
   "name": "python",
   "nbconvert_exporter": "python",
   "pygments_lexer": "ipython3",
   "version": "3.6.0"
  }
 },
 "nbformat": 4,
 "nbformat_minor": 2
}
