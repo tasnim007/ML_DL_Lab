{
 "cells": [
  {
   "cell_type": "code",
   "execution_count": 1,
   "metadata": {
    "collapsed": true
   },
   "outputs": [],
   "source": [
    "import numpy as np\n",
    "import matplotlib.pyplot as plt\n",
    "import tensorflow as tf\n",
    "import xlrd\n",
    "\n",
    "#import utils\n",
    "\n",
    "%matplotlib inline\n",
    "\n",
    "DATA_FILE = 'data/fire_theft.xls'"
   ]
  },
  {
   "cell_type": "markdown",
   "metadata": {},
   "source": [
    "## Step 1: read in data from the .xls file\n"
   ]
  },
  {
   "cell_type": "code",
   "execution_count": 2,
   "metadata": {},
   "outputs": [
    {
     "data": {
      "text/plain": [
       "42"
      ]
     },
     "execution_count": 2,
     "metadata": {},
     "output_type": "execute_result"
    }
   ],
   "source": [
    "book = xlrd.open_workbook(DATA_FILE, encoding_override=\"utf-8\")\n",
    "sheet = book.sheet_by_index(0)\n",
    "data = np.asarray([sheet.row_values(i) for i in range(1, sheet.nrows)])\n",
    "n_samples = sheet.nrows - 1\n",
    "\n",
    "n_samples"
   ]
  },
  {
   "cell_type": "markdown",
   "metadata": {},
   "source": [
    "## Step 2: create placeholders for input X (number of fire) and label Y (number of theft)\n"
   ]
  },
  {
   "cell_type": "code",
   "execution_count": 3,
   "metadata": {
    "collapsed": true
   },
   "outputs": [],
   "source": [
    "X = tf.placeholder(tf.float32, name='X')\n",
    "Y = tf.placeholder(tf.float32, name='Y')"
   ]
  },
  {
   "cell_type": "markdown",
   "metadata": {},
   "source": [
    "## Step 3: create weight and bias, initialized to 0\n"
   ]
  },
  {
   "cell_type": "code",
   "execution_count": 4,
   "metadata": {
    "collapsed": true
   },
   "outputs": [],
   "source": [
    "w = tf.Variable(0.0, name='weights')\n",
    "b = tf.Variable(0.0, name='bias')"
   ]
  },
  {
   "cell_type": "markdown",
   "metadata": {},
   "source": [
    "## Step 4: build model to predict Y\n"
   ]
  },
  {
   "cell_type": "code",
   "execution_count": 5,
   "metadata": {
    "collapsed": true
   },
   "outputs": [],
   "source": [
    "Y_predicted = X * w + b "
   ]
  },
  {
   "cell_type": "markdown",
   "metadata": {},
   "source": [
    "## Step 5: use the square error as the loss function\n"
   ]
  },
  {
   "cell_type": "code",
   "execution_count": 6,
   "metadata": {
    "collapsed": true
   },
   "outputs": [],
   "source": [
    "loss = tf.square(Y - Y_predicted, name='loss')"
   ]
  },
  {
   "cell_type": "markdown",
   "metadata": {},
   "source": [
    "## Step 6: using gradient descent with learning rate of 0.00001 to minimize loss\n"
   ]
  },
  {
   "cell_type": "code",
   "execution_count": 7,
   "metadata": {
    "collapsed": true
   },
   "outputs": [],
   "source": [
    "optimizer = tf.train.GradientDescentOptimizer(learning_rate=0.00001).minimize(loss)"
   ]
  },
  {
   "cell_type": "markdown",
   "metadata": {},
   "source": [
    "## Step 7, 8, 9 -> inside tf.session()\n",
    "\n",
    "#### Step 7: initialize the necessary variables, in this case, w and b\n",
    "#### Step 8: train the model\n",
    "#### Step 9: output the values of w and b\n"
   ]
  },
  {
   "cell_type": "code",
   "execution_count": 8,
   "metadata": {},
   "outputs": [
    {
     "name": "stdout",
     "output_type": "stream",
     "text": [
      "Epoch 0: 1451.383081254505\n",
      "Epoch 1: 1110.3922530582972\n",
      "Epoch 2: 887.9679070824668\n",
      "Epoch 3: 742.8395941570578\n",
      "Epoch 4: 648.1089486564908\n",
      "Epoch 5: 586.2437477906545\n",
      "Epoch 6: 545.815416138087\n",
      "Epoch 7: 519.3731127013231\n",
      "Epoch 8: 502.05884500983217\n",
      "Epoch 9: 490.70433266203673\n",
      "Epoch 10: 483.2427166956477\n",
      "Epoch 11: 478.32566492226243\n",
      "Epoch 12: 475.073103222109\n",
      "Epoch 13: 472.9103079253719\n",
      "Epoch 14: 471.46170754234\n",
      "Epoch 15: 470.4820155728431\n",
      "Epoch 16: 469.81056277241026\n",
      "Epoch 17: 469.34217857463017\n",
      "Epoch 18: 469.0079623091789\n",
      "Epoch 19: 468.7625400168555\n",
      "Epoch 20: 468.57630229847774\n",
      "Epoch 21: 468.42948669762836\n",
      "Epoch 22: 468.30919638701846\n",
      "Epoch 23: 468.2067635967618\n",
      "Epoch 24: 468.11656749816166\n",
      "Epoch 25: 468.0346825520198\n",
      "Epoch 26: 467.95857561202274\n",
      "Epoch 27: 467.8864829086122\n",
      "Epoch 28: 467.8173391081038\n",
      "Epoch 29: 467.7501406896682\n",
      "Epoch 30: 467.68449651627316\n",
      "Epoch 31: 467.61990728264766\n",
      "Epoch 32: 467.5561681077594\n",
      "Epoch 33: 467.4930199498222\n",
      "Epoch 34: 467.4303236234756\n",
      "Epoch 35: 467.36801733289445\n",
      "Epoch 36: 467.3060334012622\n",
      "Epoch 37: 467.24425445284163\n",
      "Epoch 38: 467.18269191469466\n",
      "Epoch 39: 467.12122350647337\n",
      "Epoch 40: 467.05990593206315\n",
      "Epoch 41: 466.99876316956113\n",
      "Epoch 42: 466.93764511176516\n",
      "Epoch 43: 466.8766390028454\n",
      "Epoch 44: 466.81573628243945\n",
      "Epoch 45: 466.75483720075516\n",
      "Epoch 46: 466.69407253038315\n",
      "Epoch 47: 466.6333336035411\n",
      "Epoch 48: 466.5726315975189\n",
      "Epoch 49: 466.51201141448246\n",
      "Epoch 50: 466.4514010179611\n",
      "Epoch 51: 466.39084445862545\n",
      "Epoch 52: 466.3303206250781\n",
      "Epoch 53: 466.269862867537\n",
      "Epoch 54: 466.20941570259276\n",
      "Epoch 55: 466.1490395239421\n",
      "Epoch 56: 466.08869863691785\n",
      "Epoch 57: 466.02839730467116\n",
      "Epoch 58: 465.9681360948654\n",
      "Epoch 59: 465.9079201902662\n",
      "Epoch 60: 465.84770248617446\n",
      "Epoch 61: 465.7875398454212\n",
      "Epoch 62: 465.7274055480957\n",
      "Epoch 63: 465.6673465229216\n",
      "Epoch 64: 465.6072957061586\n",
      "Epoch 65: 465.5472926979973\n",
      "Epoch 66: 465.4873078153247\n",
      "Epoch 67: 465.42740900743576\n",
      "Epoch 68: 465.367492045675\n",
      "Epoch 69: 465.3076928513391\n",
      "Epoch 70: 465.2478515534174\n",
      "Epoch 71: 465.1880457230977\n",
      "Epoch 72: 465.1282931793304\n",
      "Epoch 73: 465.068602789016\n",
      "Epoch 74: 465.00885786896663\n",
      "Epoch 75: 464.94925213995435\n",
      "Epoch 76: 464.8896113917941\n",
      "Epoch 77: 464.8301003774007\n",
      "Epoch 78: 464.7705292644955\n",
      "Epoch 79: 464.7110538596199\n",
      "Epoch 80: 464.6515774556569\n",
      "Epoch 81: 464.5921868312927\n",
      "Epoch 82: 464.53280026004427\n",
      "Epoch 83: 464.4734188885916\n",
      "Epoch 84: 464.4141542570932\n",
      "Epoch 85: 464.3548192353476\n",
      "Epoch 86: 464.29562196277436\n",
      "Epoch 87: 464.23635795002895\n",
      "Epoch 88: 464.177252973829\n",
      "Epoch 89: 464.1180666117441\n",
      "Epoch 90: 464.05895969981236\n",
      "Epoch 91: 463.99988651275635\n",
      "Epoch 92: 463.9408980040323\n",
      "Epoch 93: 463.88187757560183\n",
      "Epoch 94: 463.8229631071999\n",
      "Epoch 95: 463.7640205167589\n",
      "Epoch 96: 463.70515134788695\n",
      "Epoch 97: 463.6462685153598\n",
      "Epoch 98: 463.5874888726643\n",
      "Epoch 99: 463.5287116482144\n"
     ]
    }
   ],
   "source": [
    "with tf.Session() as sess:\n",
    "    \n",
    "    # Step 7: initialize the necessary variables, in this case, w and b\n",
    "    \n",
    "    sess.run(tf.global_variables_initializer()) \n",
    "\n",
    "    # Step 8: train the model\n",
    "    \n",
    "    for i in range(100): # train the model 100 epochs\n",
    "        total_loss = 0\n",
    "        for x, y in data:\n",
    "            # Session runs train_op and fetch values of loss\n",
    "            _, l = sess.run([optimizer, loss], feed_dict={X: x, Y:y}) \n",
    "            total_loss += l\n",
    "        print('Epoch {0}: {1}'.format(i, total_loss/n_samples))\n",
    "\n",
    "    \n",
    "    # Step 9: output the values of w and b\n",
    "    \n",
    "    w, b = sess.run([w, b]) "
   ]
  },
  {
   "cell_type": "code",
   "execution_count": 9,
   "metadata": {},
   "outputs": [
    {
     "name": "stdout",
     "output_type": "stream",
     "text": [
      "0.611998\n",
      "2.13033\n"
     ]
    }
   ],
   "source": [
    "print(b)\n",
    "print(w)\n"
   ]
  },
  {
   "cell_type": "markdown",
   "metadata": {},
   "source": [
    "# Plot the results\n"
   ]
  },
  {
   "cell_type": "code",
   "execution_count": 10,
   "metadata": {},
   "outputs": [
    {
     "data": {
      "image/png": "[encoded data removed]",
      "text/plain": [
       "<matplotlib.figure.Figure at 0x7f509ccda940>"
      ]
     },
     "metadata": {},
     "output_type": "display_data"
    }
   ],
   "source": [
    "X, Y = data.T[0], data.T[1]\n",
    "plt.plot(X, Y, 'bo', label='Real data')\n",
    "plt.plot(X, X * w + b, 'r', label='Predicted data')\n",
    "plt.legend()\n",
    "plt.show()"
   ]
  },
  {
   "cell_type": "code",
   "execution_count": null,
   "metadata": {
    "collapsed": true
   },
   "outputs": [],
   "source": []
  }
 ],
 "metadata": {
  "kernelspec": {
   "display_name": "Python 3",
   "language": "python",
   "name": "python3"
  },
  "language_info": {
   "codemirror_mode": {
    "name": "ipython",
    "version": 3
   },
   "file_extension": ".py",
   "mimetype": "text/x-python",
   "name": "python",
   "nbconvert_exporter": "python",
   "pygments_lexer": "ipython3",
   "version": "3.6.0"
  }
 },
 "nbformat": 4,
 "nbformat_minor": 2
}
