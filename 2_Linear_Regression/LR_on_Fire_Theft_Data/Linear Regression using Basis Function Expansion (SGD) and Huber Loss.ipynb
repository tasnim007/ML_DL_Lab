{
 "cells": [
  {
   "cell_type": "code",
   "execution_count": 17,
   "metadata": {
    "collapsed": true
   },
   "outputs": [],
   "source": [
    "import numpy as np\n",
    "import matplotlib.pyplot as plt\n",
    "import tensorflow as tf\n",
    "import xlrd\n",
    "\n",
    "#import utils\n",
    "\n",
    "%matplotlib inline\n",
    "\n",
    "DATA_FILE = 'data/fire_theft.xls'"
   ]
  },
  {
   "cell_type": "markdown",
   "metadata": {},
   "source": [
    "## Step 1: read in data from the .xls file\n"
   ]
  },
  {
   "cell_type": "code",
   "execution_count": 18,
   "metadata": {},
   "outputs": [
    {
     "data": {
      "text/plain": [
       "42"
      ]
     },
     "execution_count": 18,
     "metadata": {},
     "output_type": "execute_result"
    }
   ],
   "source": [
    "book = xlrd.open_workbook(DATA_FILE, encoding_override=\"utf-8\")\n",
    "sheet = book.sheet_by_index(0)\n",
    "data = np.asarray([sheet.row_values(i) for i in range(1, sheet.nrows)])\n",
    "n_samples = sheet.nrows - 1\n",
    "\n",
    "n_samples"
   ]
  },
  {
   "cell_type": "markdown",
   "metadata": {},
   "source": [
    "## Step 2: create placeholders for input X (number of fire) and label Y (number of theft)\n"
   ]
  },
  {
   "cell_type": "code",
   "execution_count": 19,
   "metadata": {
    "collapsed": true
   },
   "outputs": [],
   "source": [
    "X = tf.placeholder(tf.float32, name='X')\n",
    "Y = tf.placeholder(tf.float32, name='Y')"
   ]
  },
  {
   "cell_type": "markdown",
   "metadata": {},
   "source": [
    "## Step 3: create weights (w, u) and bias (b), initialized to 0\n"
   ]
  },
  {
   "cell_type": "code",
   "execution_count": 20,
   "metadata": {
    "collapsed": true
   },
   "outputs": [],
   "source": [
    "w = tf.Variable(0.0, name='weights2')\n",
    "u = tf.Variable(0.0, name='weights1')\n",
    "b = tf.Variable(0.0, name='bias')"
   ]
  },
  {
   "cell_type": "markdown",
   "metadata": {},
   "source": [
    "## Step 4: build model to predict Y\n"
   ]
  },
  {
   "cell_type": "code",
   "execution_count": 21,
   "metadata": {
    "collapsed": true
   },
   "outputs": [],
   "source": [
    "Y_predicted = X * X * w + X * u + b"
   ]
  },
  {
   "cell_type": "markdown",
   "metadata": {},
   "source": [
    "## Step 5: use the Huber Loss as the loss function\n",
    "\n",
    "\\## **Robust to outliers**.\n",
    "\n",
    "**Intuition**: \n",
    "\n",
    "If the difference between the predicted value and the real value is small, square it.\n",
    "\n",
    "If it’s large, take its absolute value.\n",
    "\n",
    "![Equation](https://wikimedia.org/api/rest_v1/media/math/render/svg/21983befe82b2509d1bb8dfa1064a35b6031d508)\n"
   ]
  },
  {
   "cell_type": "code",
   "execution_count": 22,
   "metadata": {
    "collapsed": true
   },
   "outputs": [],
   "source": [
    "def huber_loss(labels, predictions, delta=1.0):\n",
    "    residual = tf.abs(predictions - labels)\n",
    "    condition = tf.less(residual, delta)\n",
    "    small_res = 0.5 * tf.square(residual)\n",
    "    large_res = delta * residual - 0.5 * tf.square(delta)\n",
    "    return tf.where(condition, small_res, large_res)\n",
    "\n",
    "\n",
    "loss = huber_loss(Y, Y_predicted)"
   ]
  },
  {
   "cell_type": "markdown",
   "metadata": {},
   "source": [
    "## Step 6: using gradient descent with learning rate of 0.00001 to minimize loss\n"
   ]
  },
  {
   "cell_type": "code",
   "execution_count": 23,
   "metadata": {
    "collapsed": true
   },
   "outputs": [],
   "source": [
    "optimizer = tf.train.GradientDescentOptimizer(learning_rate=0.00001).minimize(loss)"
   ]
  },
  {
   "cell_type": "markdown",
   "metadata": {},
   "source": [
    "## Step 7, 8, 9 -> inside tf.session()\n",
    "\n",
    "#### Step 7: initialize the necessary variables, in this case, w and b\n",
    "#### Step 8: train the model\n",
    "#### Step 9: output the values of w and b\n"
   ]
  },
  {
   "cell_type": "code",
   "execution_count": 24,
   "metadata": {},
   "outputs": [
    {
     "name": "stdout",
     "output_type": "stream",
     "text": [
      "Epoch 0: 27.256524267650786\n",
      "Epoch 1: 23.762969136238098\n",
      "Epoch 2: 24.077993915194558\n",
      "Epoch 3: 24.034702028547013\n",
      "Epoch 4: 24.01277771313367\n",
      "Epoch 5: 24.006988969365402\n",
      "Epoch 6: 23.999519307343732\n",
      "Epoch 7: 23.992390260721248\n",
      "Epoch 8: 23.98520295774298\n",
      "Epoch 9: 23.97802561251003\n",
      "Epoch 10: 23.97084736788557\n",
      "Epoch 11: 23.96366834090579\n",
      "Epoch 12: 23.956490199458564\n",
      "Epoch 13: 23.949311477974767\n",
      "Epoch 14: 23.94213268216256\n",
      "Epoch 15: 23.934953956554335\n",
      "Epoch 16: 23.927775354789837\n",
      "Epoch 17: 23.920596973881835\n",
      "Epoch 18: 23.91341865080453\n",
      "Epoch 19: 23.90623992929856\n",
      "Epoch 20: 23.89906151539513\n",
      "Epoch 21: 23.89188268656532\n",
      "Epoch 22: 23.884704617362114\n",
      "Epoch 23: 23.87752638508876\n",
      "Epoch 24: 23.870347273469502\n",
      "Epoch 25: 23.863168523070357\n",
      "Epoch 26: 23.855990074064938\n",
      "Epoch 27: 23.84881166634815\n",
      "Epoch 28: 23.841633223529374\n",
      "Epoch 29: 23.83445431418451\n",
      "Epoch 30: 23.827276088119973\n",
      "Epoch 31: 23.82009768450544\n",
      "Epoch 32: 23.812918601779355\n",
      "Epoch 33: 23.805740458269913\n",
      "Epoch 34: 23.798561846194346\n",
      "Epoch 35: 23.7913833063628\n",
      "Epoch 36: 23.784204551839224\n",
      "Epoch 37: 23.77702587576849\n",
      "Epoch 38: 23.769847115058276\n",
      "Epoch 39: 23.762668490587245\n",
      "Epoch 40: 23.75549003124858\n",
      "Epoch 41: 23.748311491417034\n",
      "Epoch 42: 23.741132805013052\n",
      "Epoch 43: 23.733954168146564\n",
      "Epoch 44: 23.726776061801328\n",
      "Epoch 45: 23.719597259802477\n",
      "Epoch 46: 23.71241905025783\n",
      "Epoch 47: 23.70524015949507\n",
      "Epoch 48: 23.69806171667629\n",
      "Epoch 49: 23.69088326146205\n",
      "Epoch 50: 23.683704649386485\n",
      "Epoch 51: 23.67652629120719\n",
      "Epoch 52: 23.669347303431657\n",
      "Epoch 53: 23.66216895762565\n",
      "Epoch 54: 23.65498998637001\n",
      "Epoch 55: 23.64781170249695\n",
      "Epoch 56: 23.640632964493264\n",
      "Epoch 57: 23.63345439162194\n",
      "Epoch 58: 23.626275517379067\n",
      "Epoch 59: 23.619096994045236\n",
      "Epoch 60: 23.61191879068723\n",
      "Epoch 61: 23.604740029977012\n",
      "Epoch 62: 23.597561393110524\n",
      "Epoch 63: 23.59038248585005\n",
      "Epoch 64: 23.583204195790348\n",
      "Epoch 65: 23.57602607086301\n",
      "Epoch 66: 23.568847111980652\n",
      "Epoch 67: 23.56166879921442\n",
      "Epoch 68: 23.554489743319294\n",
      "Epoch 69: 23.547310988795722\n",
      "Epoch 70: 23.54013285768174\n",
      "Epoch 71: 23.532953938025805\n",
      "Epoch 72: 23.525775433274074\n",
      "Epoch 73: 23.51859696156212\n",
      "Epoch 74: 23.511418599236226\n",
      "Epoch 75: 23.50424022866147\n",
      "Epoch 76: 23.49706229778184\n",
      "Epoch 77: 23.48988350817845\n",
      "Epoch 78: 23.48270491878724\n",
      "Epoch 79: 23.47552671336702\n",
      "Epoch 80: 23.46834836756101\n",
      "Epoch 81: 23.461169873142527\n",
      "Epoch 82: 23.453991578936222\n",
      "Epoch 83: 23.44681314645069\n",
      "Epoch 84: 23.439634635512316\n",
      "Epoch 85: 23.432455942921695\n",
      "Epoch 86: 23.425277824181\n",
      "Epoch 87: 23.41809947837499\n",
      "Epoch 88: 23.41092106859599\n",
      "Epoch 89: 23.40374228517924\n",
      "Epoch 90: 23.396564643275703\n",
      "Epoch 91: 23.389386041511205\n",
      "Epoch 92: 23.382207410853532\n",
      "Epoch 93: 23.375028906101804\n",
      "Epoch 94: 23.36785088852048\n",
      "Epoch 95: 23.36067202046425\n",
      "Epoch 96: 23.35349389553691\n",
      "Epoch 97: 23.346315339185473\n",
      "Epoch 98: 23.33913718536496\n",
      "Epoch 99: 23.331958521667513\n"
     ]
    }
   ],
   "source": [
    "with tf.Session() as sess:\n",
    "    \n",
    "    # Step 7: initialize the necessary variables, in this case, w and b\n",
    "    \n",
    "    sess.run(tf.global_variables_initializer()) \n",
    "\n",
    "    # Step 8: train the model\n",
    "    \n",
    "    for i in range(100): # train the model 100 epochs\n",
    "        total_loss = 0\n",
    "        for x, y in data:\n",
    "            # Session runs train_op and fetch values of loss\n",
    "            _, l = sess.run([optimizer, loss], feed_dict={X: x, Y:y}) \n",
    "            total_loss += l\n",
    "        print('Epoch {0}: {1}'.format(i, total_loss/n_samples))\n",
    "\n",
    "    \n",
    "    # Step 9: output the values of w and b\n",
    "    \n",
    "    w, u, b = sess.run([w, u, b]) "
   ]
  },
  {
   "cell_type": "code",
   "execution_count": 25,
   "metadata": {},
   "outputs": [
    {
     "name": "stdout",
     "output_type": "stream",
     "text": [
      "0.0291879\n",
      "0.172772\n",
      "0.0537374\n"
     ]
    }
   ],
   "source": [
    "print(b)\n",
    "print(u)\n",
    "print(w)\n"
   ]
  },
  {
   "cell_type": "markdown",
   "metadata": {},
   "source": [
    "# Plot the results\n"
   ]
  },
  {
   "cell_type": "code",
   "execution_count": 26,
   "metadata": {},
   "outputs": [
    {
     "data": {
      "image/png": "[encoded data removed]",
      "text/plain": [
       "<matplotlib.figure.Figure at 0x7f3051931f28>"
      ]
     },
     "metadata": {},
     "output_type": "display_data"
    }
   ],
   "source": [
    "X, Y = data.T[0], data.T[1]\n",
    "plt.plot(X, Y, 'bo', label='Real data')\n",
    "plt.scatter(X, X * X * w + X * u + b, color = 'red', label='Predicted data')\n",
    "plt.legend()\n",
    "plt.show()"
   ]
  },
  {
   "cell_type": "markdown",
   "metadata": {
    "collapsed": true
   },
   "source": [
    "## Compare with the SGD, BGD, and Normalized version\n",
    "\n",
    "SGD with **100 epoch** and **learning rate = .00001**\n",
    "\n",
    "\n",
    "BGD with **100 epoch** and **learning rate = .00001**\n",
    "\n",
    "Basis Function Expansion with SGD & *huber loss* - **100 epoch** and **learning rate = .00001**\n",
    "\n",
    "\n",
    "|                   | **bias**(b)   | **Weight**(w) | **Cost**         |\n",
    "| ----------------  |:-------------:| -------------:| ----------------:|\n",
    "| **SGD**           | 0.611998      | 2.13033       | 463.52           |\n",
    "| **BGD**           | 0.612963      | 2.13865       | 457.91           |\n",
    "|**Normal(OLS)Eqn** | 16.99516296   | 1.31345558    | 360.82014974     |\n",
    "|**BFE(Huber Loss)**| 0.0291879     | 0.172, 0.053  | 23.331           |\n"
   ]
  },
  {
   "cell_type": "code",
   "execution_count": null,
   "metadata": {
    "collapsed": true
   },
   "outputs": [],
   "source": []
  }
 ],
 "metadata": {
  "kernelspec": {
   "display_name": "Python 3",
   "language": "python",
   "name": "python3"
  },
  "language_info": {
   "codemirror_mode": {
    "name": "ipython",
    "version": 3
   },
   "file_extension": ".py",
   "mimetype": "text/x-python",
   "name": "python",
   "nbconvert_exporter": "python",
   "pygments_lexer": "ipython3",
   "version": "3.6.0"
  }
 },
 "nbformat": 4,
 "nbformat_minor": 2
}
