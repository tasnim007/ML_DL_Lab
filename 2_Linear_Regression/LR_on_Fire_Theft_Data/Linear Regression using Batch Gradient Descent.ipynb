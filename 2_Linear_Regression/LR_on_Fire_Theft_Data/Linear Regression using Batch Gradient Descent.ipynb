{
 "cells": [
  {
   "cell_type": "code",
   "execution_count": 53,
   "metadata": {
    "collapsed": true
   },
   "outputs": [],
   "source": [
    "import numpy as np\n",
    "import matplotlib.pyplot as plt\n",
    "import tensorflow as tf\n",
    "import xlrd\n",
    "\n",
    "#import utils\n",
    "\n",
    "%matplotlib inline\n",
    "\n",
    "DATA_FILE = 'data/fire_theft.xls'"
   ]
  },
  {
   "cell_type": "markdown",
   "metadata": {},
   "source": [
    "## Step 1: read in data from the .xls file\n"
   ]
  },
  {
   "cell_type": "code",
   "execution_count": 54,
   "metadata": {},
   "outputs": [
    {
     "data": {
      "text/plain": [
       "42"
      ]
     },
     "execution_count": 54,
     "metadata": {},
     "output_type": "execute_result"
    }
   ],
   "source": [
    "book = xlrd.open_workbook(DATA_FILE, encoding_override=\"utf-8\")\n",
    "sheet = book.sheet_by_index(0)\n",
    "data = np.asarray([sheet.row_values(i) for i in range(1, sheet.nrows)])\n",
    "n_samples = sheet.nrows - 1\n",
    "\n",
    "n_samples"
   ]
  },
  {
   "cell_type": "code",
   "execution_count": 55,
   "metadata": {},
   "outputs": [
    {
     "data": {
      "text/plain": [
       "(42, 1)"
      ]
     },
     "execution_count": 55,
     "metadata": {},
     "output_type": "execute_result"
    }
   ],
   "source": [
    "x = data[:,0].reshape(n_samples,1)\n",
    "y = data[:,1].reshape(n_samples,1)\n",
    "np.shape(y)"
   ]
  },
  {
   "cell_type": "markdown",
   "metadata": {},
   "source": [
    "## Step 2: create placeholders for input X (number of fire) and label Y (number of theft)\n"
   ]
  },
  {
   "cell_type": "code",
   "execution_count": 56,
   "metadata": {
    "collapsed": true
   },
   "outputs": [],
   "source": [
    "X = tf.placeholder(tf.float32, shape=(n_samples, 1), name='X')\n",
    "Y = tf.placeholder(tf.float32, shape=(n_samples, 1), name='Y')"
   ]
  },
  {
   "cell_type": "markdown",
   "metadata": {},
   "source": [
    "## Step 3: create weight and bias, initialized to 0\n"
   ]
  },
  {
   "cell_type": "code",
   "execution_count": 57,
   "metadata": {
    "collapsed": true
   },
   "outputs": [],
   "source": [
    "w = tf.Variable(0.0, name='weights')\n",
    "b = tf.Variable(0.0, name='bias')"
   ]
  },
  {
   "cell_type": "markdown",
   "metadata": {},
   "source": [
    "## Step 4: build model to predict Y\n"
   ]
  },
  {
   "cell_type": "code",
   "execution_count": 58,
   "metadata": {
    "collapsed": true
   },
   "outputs": [],
   "source": [
    "Y_predicted = X * w + b "
   ]
  },
  {
   "cell_type": "markdown",
   "metadata": {},
   "source": [
    "## Step 5: use the square error as the loss function\n"
   ]
  },
  {
   "cell_type": "code",
   "execution_count": 59,
   "metadata": {
    "collapsed": true
   },
   "outputs": [],
   "source": [
    "loss = tf.square(Y - Y_predicted, name='loss')"
   ]
  },
  {
   "cell_type": "markdown",
   "metadata": {},
   "source": [
    "## Step 6: using gradient descent with learning rate of 0.00001 to minimize loss\n"
   ]
  },
  {
   "cell_type": "code",
   "execution_count": 60,
   "metadata": {
    "collapsed": true
   },
   "outputs": [],
   "source": [
    "optimizer = tf.train.GradientDescentOptimizer(learning_rate=0.00001).minimize(loss)"
   ]
  },
  {
   "cell_type": "markdown",
   "metadata": {},
   "source": [
    "## Step 7, 8, 9 -> inside tf.session()\n",
    "\n",
    "#### Step 7: initialize the necessary variables, in this case, w and b\n",
    "#### Step 8: train the model\n",
    "#### Step 9: output the values of w and b\n"
   ]
  },
  {
   "cell_type": "code",
   "execution_count": 61,
   "metadata": {},
   "outputs": [
    {
     "name": "stdout",
     "output_type": "stream",
     "text": [
      "Epoch 0: 1651.6666666666667\n",
      "Epoch 1: 1200.428199404762\n",
      "Epoch 2: 920.5723586309524\n",
      "Epoch 3: 746.9984188988095\n",
      "Epoch 4: 639.3341703869048\n",
      "Epoch 5: 572.5432477678571\n",
      "Epoch 6: 531.099841889881\n",
      "Epoch 7: 505.3754185267857\n",
      "Epoch 8: 489.3989025297619\n",
      "Epoch 9: 479.4677269345238\n",
      "Epoch 10: 473.28538876488096\n",
      "Epoch 11: 469.4278273809524\n",
      "Epoch 12: 467.0121837797619\n",
      "Epoch 13: 465.4905598958333\n",
      "Epoch 14: 464.5233909970238\n",
      "Epoch 15: 463.90015811011904\n",
      "Epoch 16: 463.49009486607144\n",
      "Epoch 17: 463.2124255952381\n",
      "Epoch 18: 463.0166945684524\n",
      "Epoch 19: 462.87183779761904\n",
      "Epoch 20: 462.7586960565476\n",
      "Epoch 21: 462.6650855654762\n",
      "Epoch 22: 462.5835658482143\n",
      "Epoch 23: 462.5096726190476\n",
      "Epoch 24: 462.4404761904762\n",
      "Epoch 25: 462.37425595238096\n",
      "Epoch 26: 462.30980282738096\n",
      "Epoch 27: 462.2464657738095\n",
      "Epoch 28: 462.18387276785717\n",
      "Epoch 29: 462.12179129464283\n",
      "Epoch 30: 462.0598958333333\n",
      "Epoch 31: 461.9983723958333\n",
      "Epoch 32: 461.9368954613095\n",
      "Epoch 33: 461.8755580357143\n",
      "Epoch 34: 461.81431361607144\n",
      "Epoch 35: 461.75311569940476\n",
      "Epoch 36: 461.6918712797619\n",
      "Epoch 37: 461.6307663690476\n",
      "Epoch 38: 461.5697544642857\n",
      "Epoch 39: 461.50864955357144\n",
      "Epoch 40: 461.4476376488095\n",
      "Epoch 41: 461.3866722470238\n",
      "Epoch 42: 461.3257533482143\n",
      "Epoch 43: 461.26492745535717\n",
      "Epoch 44: 461.2040085565476\n",
      "Epoch 45: 461.1432291666667\n",
      "Epoch 46: 461.0824497767857\n",
      "Epoch 47: 461.02162388392856\n",
      "Epoch 48: 460.9609840029762\n",
      "Epoch 49: 460.900390625\n",
      "Epoch 50: 460.83970424107144\n",
      "Epoch 51: 460.77911086309524\n",
      "Epoch 52: 460.71851748511904\n",
      "Epoch 53: 460.65801711309524\n",
      "Epoch 54: 460.5976097470238\n",
      "Epoch 55: 460.537109375\n",
      "Epoch 56: 460.47670200892856\n",
      "Epoch 57: 460.4164341517857\n",
      "Epoch 58: 460.3559802827381\n",
      "Epoch 59: 460.29571242559524\n",
      "Epoch 60: 460.23549107142856\n",
      "Epoch 61: 460.1751767113095\n",
      "Epoch 62: 460.11500186011904\n",
      "Epoch 63: 460.05492001488096\n",
      "Epoch 64: 459.99483816964283\n",
      "Epoch 65: 459.9346633184524\n",
      "Epoch 66: 459.8746744791667\n",
      "Epoch 67: 459.81463913690476\n",
      "Epoch 68: 459.75465029761904\n",
      "Epoch 69: 459.6947079613095\n",
      "Epoch 70: 459.6348121279762\n",
      "Epoch 71: 459.57496279761904\n",
      "Epoch 72: 459.5151134672619\n",
      "Epoch 73: 459.4554036458333\n",
      "Epoch 74: 459.3955543154762\n",
      "Epoch 75: 459.3358444940476\n",
      "Epoch 76: 459.27618117559524\n",
      "Epoch 77: 459.21651785714283\n",
      "Epoch 78: 459.15694754464283\n",
      "Epoch 79: 459.09742373511904\n",
      "Epoch 80: 459.03785342261904\n",
      "Epoch 81: 458.97832961309524\n",
      "Epoch 82: 458.9188523065476\n",
      "Epoch 83: 458.8594215029762\n",
      "Epoch 84: 458.80003720238096\n",
      "Epoch 85: 458.7406529017857\n",
      "Epoch 86: 458.68136160714283\n",
      "Epoch 87: 458.6220703125\n",
      "Epoch 88: 458.5628720238095\n",
      "Epoch 89: 458.50362723214283\n",
      "Epoch 90: 458.4444289434524\n",
      "Epoch 91: 458.3853236607143\n",
      "Epoch 92: 458.326171875\n",
      "Epoch 93: 458.2671595982143\n",
      "Epoch 94: 458.2081008184524\n",
      "Epoch 95: 458.1490885416667\n",
      "Epoch 96: 458.0902157738095\n",
      "Epoch 97: 458.03125\n",
      "Epoch 98: 457.9723307291667\n",
      "Epoch 99: 457.9135509672619\n"
     ]
    }
   ],
   "source": [
    "with tf.Session() as sess:\n",
    "    \n",
    "    # Step 7: initialize the necessary variables, in this case, w and b\n",
    "    \n",
    "    sess.run(tf.global_variables_initializer()) \n",
    "\n",
    "    # Step 8: train the model\n",
    "    \n",
    "    for i in range(100): # train the model 100 epochs\n",
    "        total_loss = 0\n",
    "        \n",
    "        # Session runs train_op and fetch values of loss\n",
    "        _, l = sess.run([optimizer, loss], feed_dict={X: x, Y: y}) \n",
    "        total_loss =np.sum(l)\n",
    "        print('Epoch {0}: {1}'.format(i, total_loss/n_samples))\n",
    "\n",
    "    \n",
    "    # Step 9: output the values of w and b\n",
    "    \n",
    "    w, b = sess.run([w, b]) "
   ]
  },
  {
   "cell_type": "code",
   "execution_count": 62,
   "metadata": {},
   "outputs": [
    {
     "name": "stdout",
     "output_type": "stream",
     "text": [
      "0.612963\n",
      "2.13865\n"
     ]
    }
   ],
   "source": [
    "print(b)\n",
    "print(w)\n"
   ]
  },
  {
   "cell_type": "markdown",
   "metadata": {},
   "source": [
    "# Plot the results\n"
   ]
  },
  {
   "cell_type": "code",
   "execution_count": 63,
   "metadata": {},
   "outputs": [
    {
     "data": {
      "image/png": "[encoded data removed]",
      "text/plain": [
       "<matplotlib.figure.Figure at 0x7f029e68d320>"
      ]
     },
     "metadata": {},
     "output_type": "display_data"
    }
   ],
   "source": [
    "X, Y = data.T[0], data.T[1]\n",
    "plt.plot(X, Y, 'bo', label='Real data')\n",
    "plt.plot(X, X * w + b, 'r', label='Predicted data')\n",
    "plt.legend()\n",
    "plt.show()"
   ]
  },
  {
   "cell_type": "markdown",
   "metadata": {
    "collapsed": true
   },
   "source": [
    "## Compare with the Stochastic Gradient Descent Version\n",
    "\n",
    "SGD with **100 epoch** and **learning rate = .00001**\n",
    "\n",
    "\n",
    "BGD with **100 epoch** and **learning rate = .00001**\n",
    "\n",
    "\n",
    "|                  | **bias**(b)   | **Weight**(w) | **Cost**         |\n",
    "| ---------------- |:-------------:| -------------:| ----------------:|\n",
    "| **SGD**          | 0.611998      | 2.13033       | 463.52           |\n",
    "| **BGD**          | 0.612963      | 2.13865       | 457.91           |\n",
    "\n",
    "\n"
   ]
  },
  {
   "cell_type": "code",
   "execution_count": null,
   "metadata": {
    "collapsed": true
   },
   "outputs": [],
   "source": []
  }
 ],
 "metadata": {
  "kernelspec": {
   "display_name": "Python 3",
   "language": "python",
   "name": "python3"
  },
  "language_info": {
   "codemirror_mode": {
    "name": "ipython",
    "version": 3
   },
   "file_extension": ".py",
   "mimetype": "text/x-python",
   "name": "python",
   "nbconvert_exporter": "python",
   "pygments_lexer": "ipython3",
   "version": "3.6.0"
  }
 },
 "nbformat": 4,
 "nbformat_minor": 2
}
