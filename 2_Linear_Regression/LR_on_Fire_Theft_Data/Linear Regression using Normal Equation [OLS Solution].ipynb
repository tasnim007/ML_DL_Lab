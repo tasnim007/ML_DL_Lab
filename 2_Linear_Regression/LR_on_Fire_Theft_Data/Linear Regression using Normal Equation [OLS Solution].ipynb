{
 "cells": [
  {
   "cell_type": "code",
   "execution_count": 38,
   "metadata": {
    "collapsed": true
   },
   "outputs": [],
   "source": [
    "import numpy as np\n",
    "import matplotlib.pyplot as plt\n",
    "import tensorflow as tf\n",
    "import xlrd\n",
    "\n",
    "#import utils\n",
    "\n",
    "%matplotlib inline\n",
    "\n",
    "DATA_FILE = 'data/fire_theft.xls'"
   ]
  },
  {
   "cell_type": "markdown",
   "metadata": {},
   "source": [
    "## Step 1: read in data from the .xls file\n"
   ]
  },
  {
   "cell_type": "code",
   "execution_count": 39,
   "metadata": {},
   "outputs": [
    {
     "data": {
      "text/plain": [
       "(42, 2)"
      ]
     },
     "execution_count": 39,
     "metadata": {},
     "output_type": "execute_result"
    }
   ],
   "source": [
    "book = xlrd.open_workbook(DATA_FILE, encoding_override=\"utf-8\")\n",
    "sheet = book.sheet_by_index(0)\n",
    "data = np.asarray([sheet.row_values(i) for i in range(1, sheet.nrows)])\n",
    "n_samples = sheet.nrows - 1\n",
    "\n",
    "np.shape(data)"
   ]
  },
  {
   "cell_type": "markdown",
   "metadata": {},
   "source": [
    "#### Adding feature $x_0 = 1$  for every examples.\n",
    "So We don't have to calculate bias term separately. It will be calculated as $w_0$ in the $w$"
   ]
  },
  {
   "cell_type": "code",
   "execution_count": 40,
   "metadata": {},
   "outputs": [
    {
     "data": {
      "text/plain": [
       "(42, 3)"
      ]
     },
     "execution_count": 40,
     "metadata": {},
     "output_type": "execute_result"
    }
   ],
   "source": [
    "data = np.c_[ np.ones((n_samples, 1)), data] \n",
    "\n",
    "np.shape(data)"
   ]
  },
  {
   "cell_type": "markdown",
   "metadata": {},
   "source": [
    "Our data had only one feature $x_1$ and target variable $y$. But after this  our data now consist of two features - $x_0$ and $x_1$, and also target variable $y$."
   ]
  },
  {
   "cell_type": "markdown",
   "metadata": {},
   "source": [
    "## Step 2: create placeholders for input X (number of fire) and label Y (number of theft)\n",
    "<span style=\"color:red\">\\** Note this step is different than previous one </span>\n"
   ]
  },
  {
   "cell_type": "code",
   "execution_count": 41,
   "metadata": {
    "collapsed": true
   },
   "outputs": [],
   "source": [
    "X = tf.constant(data[:,:2], tf.float32, shape=[n_samples,2]) ##first 2 columns are x0 and x1 features respectively\n",
    "Y = tf.constant(data[:,2], tf.float32, shape=[n_samples,1])  ##third column is the target \n",
    "\n"
   ]
  },
  {
   "cell_type": "markdown",
   "metadata": {},
   "source": [
    "## Step 3: Calculate Weight vector \n",
    "<span style=\"color:red\">\\** Note this step is different than previous one </span>\n",
    "\n",
    "We have seen the **Normalized Equation** is:\n",
    "\n",
    "$W = (X^TX)^{-1} X^Ty $\n"
   ]
  },
  {
   "cell_type": "code",
   "execution_count": 42,
   "metadata": {},
   "outputs": [],
   "source": [
    "W = tf.matmul(tf.matrix_inverse(tf.matmul(X, X, transpose_a=True)),tf.matmul(X,Y,transpose_a = True))"
   ]
  },
  {
   "cell_type": "markdown",
   "metadata": {},
   "source": [
    "## Step 4: build model to predict Y\n",
    "<span style=\"color:red\">\\** Note this step is different than previous one </span>\n"
   ]
  },
  {
   "cell_type": "code",
   "execution_count": 43,
   "metadata": {},
   "outputs": [],
   "source": [
    "Y_predicted = tf.matmul(X, W)"
   ]
  },
  {
   "cell_type": "markdown",
   "metadata": {},
   "source": [
    "## Step 5: use the square error as the loss function\n"
   ]
  },
  {
   "cell_type": "code",
   "execution_count": 44,
   "metadata": {
    "collapsed": true
   },
   "outputs": [],
   "source": [
    "loss = tf.square(Y - Y_predicted, name='loss')"
   ]
  },
  {
   "cell_type": "markdown",
   "metadata": {},
   "source": [
    "## Step 6: using gradient descent with learning rate of 0.01 to minimize loss\n",
    "\n",
    "<span style=\"color:red\">\\** No need of this step as we are calculating Weights values directly from equation </span>\n"
   ]
  },
  {
   "cell_type": "code",
   "execution_count": null,
   "metadata": {
    "collapsed": true
   },
   "outputs": [],
   "source": []
  },
  {
   "cell_type": "markdown",
   "metadata": {},
   "source": [
    "## Step 7, 8, 9 -> inside tf.session()\n",
    "\n",
    "#### Step 7: initialize the necessary variables, in this case, w and b\n",
    "#### Step 8: train the model\n",
    "#### Step 9: output the values of w and b\n"
   ]
  },
  {
   "cell_type": "code",
   "execution_count": 45,
   "metadata": {},
   "outputs": [
    {
     "name": "stdout",
     "output_type": "stream",
     "text": [
      "MSE: 360.8201497395833\n"
     ]
    }
   ],
   "source": [
    "with tf.Session() as sess:\n",
    "    \n",
    "    # Step 7: initialize the necessary variables \n",
    "    W_values, l = sess.run([W, loss])\n",
    "    \n",
    "    total_loss =np.sum(l)\n",
    "    print('MSE: {0}'.format(total_loss/n_samples))\n",
    "    # Step 8: train the model\n",
    "    \n",
    "      \n",
    "    # Step 9: output the values of w and b\n",
    "    \n",
    "    w_0, w_1 = sess.run([w[0], w[1]]) "
   ]
  },
  {
   "cell_type": "code",
   "execution_count": 46,
   "metadata": {},
   "outputs": [
    {
     "name": "stdout",
     "output_type": "stream",
     "text": [
      "[ 16.99516296]\n",
      "[ 1.31345558]\n"
     ]
    }
   ],
   "source": [
    "print(w_0)\n",
    "print(w_1)"
   ]
  },
  {
   "cell_type": "markdown",
   "metadata": {},
   "source": [
    "# Plot the results\n"
   ]
  },
  {
   "cell_type": "code",
   "execution_count": 47,
   "metadata": {},
   "outputs": [
    {
     "data": {
      "text/plain": [
       "(42, 2)"
      ]
     },
     "execution_count": 47,
     "metadata": {},
     "output_type": "execute_result"
    }
   ],
   "source": [
    "data = np.delete(data, 0, 1)\n",
    "np.shape(data)"
   ]
  },
  {
   "cell_type": "code",
   "execution_count": 48,
   "metadata": {},
   "outputs": [
    {
     "data": {
      "image/png": "[encoded data removed]",
      "text/plain": [
       "<matplotlib.figure.Figure at 0x7fb0781fc550>"
      ]
     },
     "metadata": {},
     "output_type": "display_data"
    }
   ],
   "source": [
    "X, Y = data.T[0], data.T[1]\n",
    "plt.plot(X, Y, 'bo', label='Real data')\n",
    "plt.plot(X, X * w_1 + w_0, 'r', label='Predicted data')\n",
    "plt.legend()\n",
    "plt.show()"
   ]
  },
  {
   "cell_type": "markdown",
   "metadata": {},
   "source": [
    "## Compare with the SGD and BGD version\n",
    "\n",
    "SGD with **100 epoch** and **learning rate = .00001**\n",
    "\n",
    "\n",
    "BGD with **100 epoch** and **learning rate = .00001**\n",
    "\n",
    "\n",
    "|                  | **bias**(b)   | **Weight**(w) | **Cost**         |\n",
    "| ---------------- |:-------------:| -------------:| ----------------:|\n",
    "| **SGD**          | 0.611998      | 2.13033       | 463.52           |\n",
    "| **BGD**          | 0.612963      | 2.13865       | 457.91           |\n",
    "|**Normal(OLS)Eqn**| 16.99516296   | 1.31345558    | 360.82014974     |\n",
    "\n",
    "\n"
   ]
  },
  {
   "cell_type": "code",
   "execution_count": null,
   "metadata": {
    "collapsed": true
   },
   "outputs": [],
   "source": []
  }
 ],
 "metadata": {
  "kernelspec": {
   "display_name": "Python 3",
   "language": "python",
   "name": "python3"
  },
  "language_info": {
   "codemirror_mode": {
    "name": "ipython",
    "version": 3
   },
   "file_extension": ".py",
   "mimetype": "text/x-python",
   "name": "python",
   "nbconvert_exporter": "python",
   "pygments_lexer": "ipython3",
   "version": "3.6.0"
  }
 },
 "nbformat": 4,
 "nbformat_minor": 2
}
