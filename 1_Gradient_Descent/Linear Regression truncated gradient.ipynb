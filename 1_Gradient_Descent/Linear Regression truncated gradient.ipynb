{
 "cells": [
  {
   "cell_type": "code",
   "execution_count": 1,
   "metadata": {
    "collapsed": true
   },
   "outputs": [],
   "source": [
    "import numpy as np\n",
    "import tensorflow as tf\n",
    "import matplotlib.patches as mpatches\n",
    "import matplotlib.pyplot as plt\n",
    "%matplotlib inline\n",
    "plt.rcParams['figure.figsize'] = (10, 6)"
   ]
  },
  {
   "cell_type": "code",
   "execution_count": 11,
   "metadata": {
    "collapsed": false
   },
   "outputs": [
    {
     "data": {
      "image/png": "[encoded data removed]",
      "text/plain": [
       "<matplotlib.figure.Figure at 0x7f613388dd10>"
      ]
     },
     "metadata": {},
     "output_type": "display_data"
    }
   ],
   "source": [
    "x_data = np.random.rand(100).astype(np.float32)\n",
    "y_data = 3*x_data + 2\n",
    "\n",
    "plt.scatter(x_data,y_data) \n",
    "plt.ylabel('Dependent Variable')\n",
    "plt.xlabel('Indepdendent Variable')\n",
    "plt.show()"
   ]
  },
  {
   "cell_type": "code",
   "execution_count": 12,
   "metadata": {
    "collapsed": false
   },
   "outputs": [
    {
     "data": {
      "image/png": "[encoded data removed]",
      "text/plain": [
       "<matplotlib.figure.Figure at 0x7f6108055550>"
      ]
     },
     "metadata": {},
     "output_type": "display_data"
    }
   ],
   "source": [
    "#Adding some noise to the above data\n",
    "y_data = np.vectorize(lambda y: y + np.random.normal(loc=0.0, scale=0.1))(y_data)\n",
    "\n",
    "plt.scatter(x_data,y_data) \n",
    "plt.ylabel('Dependent Variable')\n",
    "plt.xlabel('Indepdendent Variable')\n",
    "plt.show()"
   ]
  },
  {
   "cell_type": "code",
   "execution_count": 95,
   "metadata": {
    "collapsed": false
   },
   "outputs": [],
   "source": [
    "#step 1: Prepare/ready data\n",
    "data = zip(x_data, y_data)\n",
    "n_samples = 100\n",
    "\n",
    "# Step 2: create placeholders for input X (number of fire) and label Y (number of theft)\n",
    "X = tf.placeholder(tf.float32, name='X')\n",
    "Y = tf.placeholder(tf.float32, name='Y')\n",
    "\n",
    "# Step 3: create weight and bias, initialized to 0\n",
    "w = tf.Variable(1.0, name='weights')\n",
    "b = tf.Variable(0.2, name='bias')\n",
    "\n",
    "# Step 4: build model to predict Y\n",
    "Y_predicted = X * w + b \n",
    "\n",
    "# Step 5: use the square error as the loss function\n",
    "loss = tf.reduce_mean(tf.square(Y - Y_predicted, name='loss'))"
   ]
  },
  {
   "cell_type": "markdown",
   "metadata": {},
   "source": [
    "## Optimization Step"
   ]
  },
  {
   "cell_type": "markdown",
   "metadata": {},
   "source": [
    "We will use TensorFlow's default *tf.train.GradientDescentOptimizer class* as our optimizer.\n",
    "We have to do **2 things**:\n",
    "    1. Create class object\n",
    "    2. call the minimize() function\n",
    "Here we first created a tf.train.GradientDescentOptimizer class object named **optimizer** by passing the ***learning_rate***.\n",
    "\n",
    "Then we have to minimize the above **loss function**. We can do it by just calling the ***optimizer.minimize(loss)*** function.\n",
    "\n",
    "We can **vary* the learning_rate***. \n",
    "\n",
    "| learning_rate | MSE after 50 epochs | W     | b     | Number of epochs|\n",
    "| ------------- |:-------------------:| -----:| -----:| ---------------:|\n",
    "| .001          | .024                | 2.61  |2.19   |  50             |\n",
    "| .01           | .0083               | 3.02  |1.96   |  50             |\n",
    "| .1            | .0094               | 3.027 |1.957  |  50             |\n",
    "| .5            | .026                | 3.05  |2.09   |  50             |\n",
    "| .7            | .218                | 2.26  |2.10   |  50             |\n",
    "| .8            | **NAN**             | NAN   |NAN    |  50             |\n",
    "| .9            | **NAN**             | NAN   |NAN    |  50             |\n",
    "\n",
    "For some values of the learning_rate gradient may explode or disperse, resulting in exponential decay of the gradient. For example, in the above table we see for our case if **learning_rate is 0.8** then the loss increases exponentially. After 7 epochs it becomes ***inifinite***. For **learning_rate is 0.9** we get ***inifinite*** loss in the first iteration.\n",
    "\n",
    "To resolve this, we have to clip gradient by using **Clip_by_global_norm()** function. Clipping must be done before gradient descent applied. In the above mentioned method, we are minimizing gradient directly which is actually composition of two steps:\n",
    "\n",
    "<span style=\"color:blue\">optimizer.minimize(loss) = optimizer.compute_gradients(loss) + optimizer.apply_gradients()</span>\n",
    "\n",
    "After compting gradient and before applying it we have to clip gradient. \n",
    "\n",
    "[A good link for tensorflow optimizer](https://applenob.github.io/tf_6.html) "
   ]
  },
  {
   "cell_type": "code",
   "execution_count": null,
   "metadata": {
    "collapsed": true
   },
   "outputs": [],
   "source": [
    "# Step 6: using gradient descent with learning rate \n",
    "optimizer = tf.train.GradientDescentOptimizer(learning_rate=0.5)\n",
    "#train_step = optimizer.minimize(loss)\n",
    "\n",
    "'''\n",
    "optimizer.minimize(loss) = optimizer.compute_gradients(loss) + optimizer.apply_gradients()\n",
    "'''\n",
    "\n",
    "#gra_and_var = optimizer.compute_gradients(loss)\n",
    "#clipped_gradients, norm = tf.clip_by_global_norm(gra_and_var,5)\n",
    "##train_step = optimizer.apply_gradients(gra_and_var)\n",
    "#train_step = optimizer.apply_gradients(zip(clipped_gradients, [u,w,b]))\n",
    "\n",
    "gradients, vriables = zip(*optimizer.compute_gradients(loss))\n",
    "gradients, _ = tf.clip_by_global_norm(gradients, 1.25)\n",
    "train_step = optimizer.apply_gradients(zip(gradients, vriables))"
   ]
  },
  {
   "cell_type": "code",
   "execution_count": 96,
   "metadata": {
    "collapsed": false
   },
   "outputs": [
    {
     "name": "stdout",
     "output_type": "stream",
     "text": [
      "Epoch 0: 0.189526271274\n",
      "Epoch 1: 0.0263570621078\n",
      "Epoch 2: 0.0263570591543\n",
      "Epoch 3: 0.0263570591543\n",
      "Epoch 4: 0.0263570591543\n",
      "Epoch 5: 0.0263570591543\n",
      "Epoch 6: 0.0263570591543\n",
      "Epoch 7: 0.0263570591543\n",
      "Epoch 8: 0.0263570591543\n",
      "Epoch 9: 0.0263570591543\n",
      "Epoch 10: 0.0263570591543\n",
      "Epoch 11: 0.0263570591543\n",
      "Epoch 12: 0.0263570591543\n",
      "Epoch 13: 0.0263570591543\n",
      "Epoch 14: 0.0263570591543\n",
      "Epoch 15: 0.0263570591543\n",
      "Epoch 16: 0.0263570591543\n",
      "Epoch 17: 0.0263570591543\n",
      "Epoch 18: 0.0263570591543\n",
      "Epoch 19: 0.0263570591543\n",
      "Epoch 20: 0.0263570591543\n",
      "Epoch 21: 0.0263570591543\n",
      "Epoch 22: 0.0263570591543\n",
      "Epoch 23: 0.0263570591543\n",
      "Epoch 24: 0.0263570591543\n",
      "Epoch 25: 0.0263570591543\n",
      "Epoch 26: 0.0263570591543\n",
      "Epoch 27: 0.0263570591543\n",
      "Epoch 28: 0.0263570591543\n",
      "Epoch 29: 0.0263570591543\n",
      "Epoch 30: 0.0263570591543\n",
      "Epoch 31: 0.0263570591543\n",
      "Epoch 32: 0.0263570591543\n",
      "Epoch 33: 0.0263570591543\n",
      "Epoch 34: 0.0263570591543\n",
      "Epoch 35: 0.0263570591543\n",
      "Epoch 36: 0.0263570591543\n",
      "Epoch 37: 0.0263570591543\n",
      "Epoch 38: 0.0263570591543\n",
      "Epoch 39: 0.0263570591543\n",
      "Epoch 40: 0.0263570591543\n",
      "Epoch 41: 0.0263570591543\n",
      "Epoch 42: 0.0263570591543\n",
      "Epoch 43: 0.0263570591543\n",
      "Epoch 44: 0.0263570591543\n",
      "Epoch 45: 0.0263570591543\n",
      "Epoch 46: 0.0263570591543\n",
      "Epoch 47: 0.0263570591543\n",
      "Epoch 48: 0.0263570591543\n",
      "Epoch 49: 0.0263570591543\n",
      "MSE after 50 epochs:0.0263570591543\n",
      "w = 3.05513572693 b = 2.04576253891\n"
     ]
    }
   ],
   "source": [
    "with tf.Session() as sess:\n",
    "    # Step 7: initialize the necessary variables, in this case, w and b\n",
    "    sess.run(tf.global_variables_initializer()) \n",
    "\n",
    "    # Step 8: train the model\n",
    "    for i in range(50): # train the model 100 epochs\n",
    "        total_loss = 0\n",
    "        for x, y in data:\n",
    "            # Session runs train_op and fetch values of loss\n",
    "            _, l = sess.run([train_step, loss], feed_dict={X: x, Y:y}) \n",
    "            total_loss += l\n",
    "        print('Epoch {0}: {1}'.format(i, total_loss/n_samples))\n",
    "    print('MSE after 50 epochs:{}'.format(total_loss/n_samples))\n",
    "    w, b = sess.run([w, b]) \n",
    "    print('w = {0} b = {1}'.format(w, b))"
   ]
  },
  {
   "cell_type": "code",
   "execution_count": 74,
   "metadata": {
    "collapsed": false
   },
   "outputs": [
    {
     "data": {
      "image/png": "[encoded data removed]",
      "text/plain": [
       "<matplotlib.figure.Figure at 0x7f6088795910>"
      ]
     },
     "metadata": {},
     "output_type": "display_data"
    }
   ],
   "source": [
    "plt.plot(x_data, y_data, 'bo', label='Real data')\n",
    "plt.plot(x_data, x_data * w + b, 'r', label='Predicted data')\n",
    "plt.legend()\n",
    "plt.show()"
   ]
  },
  {
   "cell_type": "code",
   "execution_count": 75,
   "metadata": {
    "collapsed": false
   },
   "outputs": [
    {
     "data": {
      "text/plain": [
       "3.0252709"
      ]
     },
     "execution_count": 75,
     "metadata": {},
     "output_type": "execute_result"
    }
   ],
   "source": [
    "w"
   ]
  },
  {
   "cell_type": "code",
   "execution_count": 76,
   "metadata": {
    "collapsed": false
   },
   "outputs": [
    {
     "data": {
      "text/plain": [
       "1.9637766"
      ]
     },
     "execution_count": 76,
     "metadata": {},
     "output_type": "execute_result"
    }
   ],
   "source": [
    "b"
   ]
  },
  {
   "cell_type": "code",
   "execution_count": null,
   "metadata": {
    "collapsed": true
   },
   "outputs": [],
   "source": []
  }
 ],
 "metadata": {
  "kernelspec": {
   "display_name": "Python 3",
   "language": "python",
   "name": "python3"
  },
  "language_info": {
   "codemirror_mode": {
    "name": "ipython",
    "version": 3
   },
   "file_extension": ".py",
   "mimetype": "text/x-python",
   "name": "python",
   "nbconvert_exporter": "python",
   "pygments_lexer": "ipython3",
   "version": "3.5.2"
  },
  "widgets": {
   "state": {},
   "version": "1.1.2"
  }
 },
 "nbformat": 4,
 "nbformat_minor": 0
}
